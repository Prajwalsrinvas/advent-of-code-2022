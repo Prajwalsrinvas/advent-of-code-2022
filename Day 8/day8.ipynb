{
 "cells": [
  {
   "cell_type": "code",
   "execution_count": 29,
   "metadata": {},
   "outputs": [],
   "source": [
    "import numpy as np"
   ]
  },
  {
   "cell_type": "code",
   "execution_count": 30,
   "metadata": {},
   "outputs": [],
   "source": [
    "with open(\"input.txt\") as f:\n",
    "    data = [list(line.strip()) for line in f.readlines()]"
   ]
  },
  {
   "cell_type": "code",
   "execution_count": 31,
   "metadata": {},
   "outputs": [],
   "source": [
    "data = np.array([list(map(int, row)) for row in data])"
   ]
  },
  {
   "cell_type": "code",
   "execution_count": 32,
   "metadata": {},
   "outputs": [],
   "source": [
    "row_len, col_len = data.shape"
   ]
  },
  {
   "attachments": {},
   "cell_type": "markdown",
   "metadata": {},
   "source": [
    "# part 1"
   ]
  },
  {
   "cell_type": "code",
   "execution_count": 33,
   "metadata": {},
   "outputs": [],
   "source": [
    "visible_count = 0\n",
    "for row in range(row_len):\n",
    "    for col in range(col_len):\n",
    "        # detect edge\n",
    "        if (row in (0, row_len - 1)) or (col in (0, col_len - 1)):\n",
    "            visible_count += 1\n",
    "        else:\n",
    "            current = data[row, col]\n",
    "            up = data[:row, col]\n",
    "            down = data[row + 1 :, col]\n",
    "            left = data[row, :col]\n",
    "            right = data[row, col + 1 :]\n",
    "            neighbours = (up, down, left, right)\n",
    "            condition = [max(neighbour) >= current for neighbour in neighbours]\n",
    "            if not all(condition):\n",
    "                visible_count += 1"
   ]
  },
  {
   "cell_type": "code",
   "execution_count": 34,
   "metadata": {},
   "outputs": [
    {
     "data": {
      "text/plain": [
       "1845"
      ]
     },
     "execution_count": 34,
     "metadata": {},
     "output_type": "execute_result"
    }
   ],
   "source": [
    "visible_count"
   ]
  },
  {
   "attachments": {},
   "cell_type": "markdown",
   "metadata": {},
   "source": [
    "# part 2"
   ]
  },
  {
   "cell_type": "code",
   "execution_count": 35,
   "metadata": {},
   "outputs": [],
   "source": [
    "scenic_score = 0\n",
    "for row in range(row_len):\n",
    "    for col in range(col_len):\n",
    "        # detect edge\n",
    "        if (row in (0, row_len - 1)) or (col in (0, col_len - 1)):\n",
    "            continue\n",
    "        else:\n",
    "            current = data[row, col]\n",
    "            up = data[:row, col][::-1]\n",
    "            down = data[row + 1 :, col]\n",
    "            left = data[row, :col][::-1]\n",
    "            right = data[row, col + 1 :]\n",
    "            neighbours = (up, down, left, right)\n",
    "            current_scenic_score = 1\n",
    "\n",
    "            for neighbour in neighbours:\n",
    "                visible_trees = []\n",
    "                for tree in neighbour:\n",
    "                    visible_trees.append(tree)\n",
    "                    if tree >= current:\n",
    "                        break\n",
    "                current_scenic_score *= len(visible_trees)\n",
    "            if current_scenic_score > scenic_score:\n",
    "                scenic_score = current_scenic_score"
   ]
  },
  {
   "cell_type": "code",
   "execution_count": 36,
   "metadata": {},
   "outputs": [
    {
     "data": {
      "text/plain": [
       "230112"
      ]
     },
     "execution_count": 36,
     "metadata": {},
     "output_type": "execute_result"
    }
   ],
   "source": [
    "scenic_score"
   ]
  },
  {
   "cell_type": "code",
   "execution_count": null,
   "metadata": {},
   "outputs": [],
   "source": []
  }
 ],
 "metadata": {
  "kernelspec": {
   "display_name": "Python 3",
   "language": "python",
   "name": "python3"
  },
  "language_info": {
   "codemirror_mode": {
    "name": "ipython",
    "version": 3
   },
   "file_extension": ".py",
   "mimetype": "text/x-python",
   "name": "python",
   "nbconvert_exporter": "python",
   "pygments_lexer": "ipython3",
   "version": "3.11.0 (main, Oct 24 2022, 18:26:48) [MSC v.1933 64 bit (AMD64)]"
  },
  "orig_nbformat": 4,
  "vscode": {
   "interpreter": {
    "hash": "f5f859ad85f1453d51e2ade7becd7631a419e94ec8ffa260266cf419a88123be"
   }
  }
 },
 "nbformat": 4,
 "nbformat_minor": 2
}
