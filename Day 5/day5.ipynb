{
 "cells": [
  {
   "cell_type": "code",
   "execution_count": 1,
   "metadata": {},
   "outputs": [],
   "source": [
    "import pandas as pd\n",
    "from copy import deepcopy"
   ]
  },
  {
   "cell_type": "code",
   "execution_count": 2,
   "metadata": {},
   "outputs": [],
   "source": [
    "with open(\"input.txt\") as f:\n",
    "    data = f.read()"
   ]
  },
  {
   "cell_type": "code",
   "execution_count": 3,
   "metadata": {},
   "outputs": [],
   "source": [
    "stacks, steps = data.split(\"\\n\\n\")"
   ]
  },
  {
   "cell_type": "code",
   "execution_count": 4,
   "metadata": {},
   "outputs": [
    {
     "data": {
      "text/plain": [
       "['[M] [H]         [N]                ',\n",
       " '[S] [W]         [F]     [W] [V]    ',\n",
       " '[J] [J]         [B]     [S] [B] [F]',\n",
       " '[L] [F] [G]     [C]     [L] [N] [N]',\n",
       " '[V] [Z] [D]     [P] [W] [G] [F] [Z]',\n",
       " '[F] [D] [C] [S] [W] [M] [N] [H] [H]',\n",
       " '[N] [N] [R] [B] [Z] [R] [T] [T] [M]',\n",
       " '[R] [P] [W] [N] [M] [P] [R] [Q] [L]',\n",
       " ' 1   2   3   4   5   6   7   8   9 ']"
      ]
     },
     "execution_count": 4,
     "metadata": {},
     "output_type": "execute_result"
    }
   ],
   "source": [
    "stacks.split(\"\\n\")"
   ]
  },
  {
   "cell_type": "code",
   "execution_count": 5,
   "metadata": {},
   "outputs": [],
   "source": [
    "df = pd.DataFrame(\n",
    "    [i.replace(\"    \", \" [?]\").split(\" \") for i in stacks.split(\"\\n\")[:-1]]\n",
    ")"
   ]
  },
  {
   "cell_type": "code",
   "execution_count": 6,
   "metadata": {},
   "outputs": [
    {
     "data": {
      "text/html": [
       "<div>\n",
       "<style scoped>\n",
       "    .dataframe tbody tr th:only-of-type {\n",
       "        vertical-align: middle;\n",
       "    }\n",
       "\n",
       "    .dataframe tbody tr th {\n",
       "        vertical-align: top;\n",
       "    }\n",
       "\n",
       "    .dataframe thead th {\n",
       "        text-align: right;\n",
       "    }\n",
       "</style>\n",
       "<table border=\"1\" class=\"dataframe\">\n",
       "  <thead>\n",
       "    <tr style=\"text-align: right;\">\n",
       "      <th></th>\n",
       "      <th>0</th>\n",
       "      <th>1</th>\n",
       "      <th>2</th>\n",
       "      <th>3</th>\n",
       "      <th>4</th>\n",
       "      <th>5</th>\n",
       "      <th>6</th>\n",
       "      <th>7</th>\n",
       "      <th>8</th>\n",
       "    </tr>\n",
       "  </thead>\n",
       "  <tbody>\n",
       "    <tr>\n",
       "      <th>0</th>\n",
       "      <td>[M]</td>\n",
       "      <td>[H]</td>\n",
       "      <td>[?]</td>\n",
       "      <td>[?]</td>\n",
       "      <td>[N]</td>\n",
       "      <td>[?]</td>\n",
       "      <td>[?]</td>\n",
       "      <td>[?]</td>\n",
       "      <td>[?]</td>\n",
       "    </tr>\n",
       "    <tr>\n",
       "      <th>1</th>\n",
       "      <td>[S]</td>\n",
       "      <td>[W]</td>\n",
       "      <td>[?]</td>\n",
       "      <td>[?]</td>\n",
       "      <td>[F]</td>\n",
       "      <td>[?]</td>\n",
       "      <td>[W]</td>\n",
       "      <td>[V]</td>\n",
       "      <td>[?]</td>\n",
       "    </tr>\n",
       "    <tr>\n",
       "      <th>2</th>\n",
       "      <td>[J]</td>\n",
       "      <td>[J]</td>\n",
       "      <td>[?]</td>\n",
       "      <td>[?]</td>\n",
       "      <td>[B]</td>\n",
       "      <td>[?]</td>\n",
       "      <td>[S]</td>\n",
       "      <td>[B]</td>\n",
       "      <td>[F]</td>\n",
       "    </tr>\n",
       "    <tr>\n",
       "      <th>3</th>\n",
       "      <td>[L]</td>\n",
       "      <td>[F]</td>\n",
       "      <td>[G]</td>\n",
       "      <td>[?]</td>\n",
       "      <td>[C]</td>\n",
       "      <td>[?]</td>\n",
       "      <td>[L]</td>\n",
       "      <td>[N]</td>\n",
       "      <td>[N]</td>\n",
       "    </tr>\n",
       "    <tr>\n",
       "      <th>4</th>\n",
       "      <td>[V]</td>\n",
       "      <td>[Z]</td>\n",
       "      <td>[D]</td>\n",
       "      <td>[?]</td>\n",
       "      <td>[P]</td>\n",
       "      <td>[W]</td>\n",
       "      <td>[G]</td>\n",
       "      <td>[F]</td>\n",
       "      <td>[Z]</td>\n",
       "    </tr>\n",
       "    <tr>\n",
       "      <th>5</th>\n",
       "      <td>[F]</td>\n",
       "      <td>[D]</td>\n",
       "      <td>[C]</td>\n",
       "      <td>[S]</td>\n",
       "      <td>[W]</td>\n",
       "      <td>[M]</td>\n",
       "      <td>[N]</td>\n",
       "      <td>[H]</td>\n",
       "      <td>[H]</td>\n",
       "    </tr>\n",
       "    <tr>\n",
       "      <th>6</th>\n",
       "      <td>[N]</td>\n",
       "      <td>[N]</td>\n",
       "      <td>[R]</td>\n",
       "      <td>[B]</td>\n",
       "      <td>[Z]</td>\n",
       "      <td>[R]</td>\n",
       "      <td>[T]</td>\n",
       "      <td>[T]</td>\n",
       "      <td>[M]</td>\n",
       "    </tr>\n",
       "    <tr>\n",
       "      <th>7</th>\n",
       "      <td>[R]</td>\n",
       "      <td>[P]</td>\n",
       "      <td>[W]</td>\n",
       "      <td>[N]</td>\n",
       "      <td>[M]</td>\n",
       "      <td>[P]</td>\n",
       "      <td>[R]</td>\n",
       "      <td>[Q]</td>\n",
       "      <td>[L]</td>\n",
       "    </tr>\n",
       "  </tbody>\n",
       "</table>\n",
       "</div>"
      ],
      "text/plain": [
       "     0    1    2    3    4    5    6    7    8\n",
       "0  [M]  [H]  [?]  [?]  [N]  [?]  [?]  [?]  [?]\n",
       "1  [S]  [W]  [?]  [?]  [F]  [?]  [W]  [V]  [?]\n",
       "2  [J]  [J]  [?]  [?]  [B]  [?]  [S]  [B]  [F]\n",
       "3  [L]  [F]  [G]  [?]  [C]  [?]  [L]  [N]  [N]\n",
       "4  [V]  [Z]  [D]  [?]  [P]  [W]  [G]  [F]  [Z]\n",
       "5  [F]  [D]  [C]  [S]  [W]  [M]  [N]  [H]  [H]\n",
       "6  [N]  [N]  [R]  [B]  [Z]  [R]  [T]  [T]  [M]\n",
       "7  [R]  [P]  [W]  [N]  [M]  [P]  [R]  [Q]  [L]"
      ]
     },
     "execution_count": 6,
     "metadata": {},
     "output_type": "execute_result"
    }
   ],
   "source": [
    "df"
   ]
  },
  {
   "cell_type": "code",
   "execution_count": 7,
   "metadata": {},
   "outputs": [],
   "source": [
    "stacks = []\n",
    "for stack in df.T.to_records(index=False):\n",
    "    current = [i.strip(\"[]\") for i in stack if i != \"[?]\"]\n",
    "    stacks.append(current)"
   ]
  },
  {
   "cell_type": "code",
   "execution_count": 8,
   "metadata": {},
   "outputs": [],
   "source": [
    "# test blocks\n",
    "# stacks=[['N','Z'],['D','C','M'],['P']]"
   ]
  },
  {
   "cell_type": "code",
   "execution_count": 9,
   "metadata": {},
   "outputs": [],
   "source": [
    "steps = [i for i in steps.split(\"\\n\") if i]"
   ]
  },
  {
   "cell_type": "code",
   "execution_count": 10,
   "metadata": {},
   "outputs": [],
   "source": [
    "def func(stacks, should_reverse):\n",
    "    stacks = deepcopy(\n",
    "        stacks\n",
    "    )  # so that stacks is in original state for part 2, after part 1 is solved\n",
    "    for step in steps:\n",
    "        step = step.split()\n",
    "        block_count = int(step[1])\n",
    "        from_stack = int(step[3]) - 1\n",
    "        to_stack = int(step[-1]) - 1\n",
    "        # if True, the blocks are moved in reverse order (like one block at a time) (CrateMover 9000)\n",
    "        # else all blocks are lifted at once and moved (CrateMover 9001)\n",
    "        if should_reverse:\n",
    "            stacks[to_stack] = (\n",
    "                stacks[from_stack][:block_count][::-1] + stacks[to_stack]\n",
    "            )  # for part 1\n",
    "        else:\n",
    "            stacks[to_stack] = (\n",
    "                stacks[from_stack][:block_count] + stacks[to_stack]\n",
    "            )  # for part 2\n",
    "\n",
    "        stacks[from_stack] = stacks[from_stack][block_count:]\n",
    "    return \"\".join([i[0] for i in stacks if len(i) > 0])"
   ]
  },
  {
   "cell_type": "markdown",
   "metadata": {},
   "source": [
    "# part 1"
   ]
  },
  {
   "cell_type": "code",
   "execution_count": 11,
   "metadata": {},
   "outputs": [
    {
     "data": {
      "text/plain": [
       "'QPJPLMNNR'"
      ]
     },
     "execution_count": 11,
     "metadata": {},
     "output_type": "execute_result"
    }
   ],
   "source": [
    "func(stacks, should_reverse=True)"
   ]
  },
  {
   "cell_type": "markdown",
   "metadata": {},
   "source": [
    "# part 2"
   ]
  },
  {
   "cell_type": "code",
   "execution_count": 12,
   "metadata": {},
   "outputs": [
    {
     "data": {
      "text/plain": [
       "'BQDNWJPVJ'"
      ]
     },
     "execution_count": 12,
     "metadata": {},
     "output_type": "execute_result"
    }
   ],
   "source": [
    "func(stacks, should_reverse=False)"
   ]
  }
 ],
 "metadata": {
  "kernelspec": {
   "display_name": "Python 3.11.0 64-bit",
   "language": "python",
   "name": "python3"
  },
  "language_info": {
   "codemirror_mode": {
    "name": "ipython",
    "version": 3
   },
   "file_extension": ".py",
   "mimetype": "text/x-python",
   "name": "python",
   "nbconvert_exporter": "python",
   "pygments_lexer": "ipython3",
   "version": "3.11.0"
  },
  "orig_nbformat": 4,
  "vscode": {
   "interpreter": {
    "hash": "f5f859ad85f1453d51e2ade7becd7631a419e94ec8ffa260266cf419a88123be"
   }
  }
 },
 "nbformat": 4,
 "nbformat_minor": 2
}
